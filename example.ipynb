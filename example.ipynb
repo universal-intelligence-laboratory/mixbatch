{
  "nbformat": 4,
  "nbformat_minor": 0,
  "metadata": {
    "colab": {
      "name": "example.ipynb",
      "version": "0.3.2",
      "provenance": [],
      "include_colab_link": true
    },
    "language_info": {
      "codemirror_mode": {
        "name": "ipython",
        "version": 3
      },
      "file_extension": ".py",
      "mimetype": "text/x-python",
      "name": "python",
      "nbconvert_exporter": "python",
      "pygments_lexer": "ipython3",
      "version": "3.6.5"
    },
    "kernelspec": {
      "display_name": "Python 3",
      "language": "python",
      "name": "python3"
    }
  },
  "cells": [
    {
      "cell_type": "markdown",
      "metadata": {
        "id": "view-in-github",
        "colab_type": "text"
      },
      "source": [
        "<a href=\"https://colab.research.google.com/github/HudsonHuang/mixbatch/blob/master/example.ipynb\" target=\"_parent\"><img src=\"https://colab.research.google.com/assets/colab-badge.svg\" alt=\"Open In Colab\"/></a>"
      ]
    },
    {
      "cell_type": "code",
      "metadata": {
        "id": "XRqz_VQiipo8",
        "colab_type": "code",
        "colab": {}
      },
      "source": [
        "import numpy as np\n",
        "# from  matplotlib import pyplot as plt\n",
        "np.random.seed(6) #随机数，这样做的目的是在每次运行程序时，初始值保持一致。seed的值可以随便设置。\n",
        "import keras\n",
        "from keras.models import Sequential\n",
        "from keras.layers import Dense , Dropout ,Activation, Flatten\n",
        "from keras.layers import Conv2D ,MaxPooling2D   #卷积层，池化层\n",
        "from keras.utils import np_utils\n",
        "from keras.datasets import mnist\n",
        "from mixbatch import MixBatch\n",
        "import tensorflow as tf\n",
        "import keras.backend.tensorflow_backend as KTF\n",
        "import numpy as np\n",
        "np.random.seed(2019)\n",
        "tf.set_random_seed(2019)\n",
        "\n",
        "config = tf.ConfigProto()\n",
        "config.gpu_options.allow_growth = True  # 不全部占满显存, 按需分配\n",
        "sess = tf.Session(config=config)\n",
        "\n",
        "KTF.set_session(sess)\n",
        "\n"
      ],
      "execution_count": 0,
      "outputs": []
    },
    {
      "cell_type": "code",
      "metadata": {
        "id": "wwWlE4khitTl",
        "colab_type": "code",
        "colab": {}
      },
      "source": [
        "def get_default_callbacks(log_dir=None,comment=''):\n",
        "    import time\n",
        "    import os\n",
        "\n",
        "    if log_dir==None:\n",
        "        def _get_current_date():\n",
        "            strDate = time.strftime('%Y%m%d_%H%M%S',\n",
        "                                    time.localtime(time.time())) \n",
        "            return strDate\n",
        "        log_dir = os.path.join('./',_get_current_date()+comment)\n",
        "\n",
        "    cb = []\n",
        "    weight_path = os.path.join(log_dir, 'model.h5')\n",
        "    ckpt_cb = keras.callbacks.ModelCheckpoint(weight_path,\n",
        "                                            save_weights_only=True,\n",
        "                                            save_best_only=True)\n",
        "    cb.append(ckpt_cb)\n",
        "\n",
        "    tb_cb = keras.callbacks.TensorBoard(log_dir=log_dir)\n",
        "    cb.append(tb_cb)\n",
        "\n",
        "    # nan_cb = keras.callbacks.TerminateOnNaN()\n",
        "    # cb.append(nan_cb)\n",
        "\n",
        "    # update_pruning = sparsity.UpdatePruningStep(),\n",
        "    # pruning_summary = ssparsity.PruningSummaries(log_dir=log_dir, profile_batch=0)\n",
        "    # cb.append(update_pruning)\n",
        "    # cb.append(pruning_summary)\n",
        "    return cb\n"
      ],
      "execution_count": 0,
      "outputs": []
    },
    {
      "cell_type": "code",
      "metadata": {
        "id": "FksyuaKZivub",
        "colab_type": "code",
        "colab": {}
      },
      "source": [
        "\n",
        "(X_train,y_train),(X_test,y_test)=mnist.load_data()   #导入mnist数据\n",
        "X_train = X_train.reshape(X_train.shape[0], 28, 28, 1)\n",
        "X_test = X_test.reshape(X_test.shape[0], 28, 28, 1)\n",
        "#这里大家可能不是很了解，主要是为了把mnist数据变成二维图片形式\n",
        "X_train = X_train.astype('float32')\n",
        "X_test = X_test.astype('float32')\n",
        "X_train /= 255\n",
        "X_test /= 255     #做标准化（0，1）之间 ，深度学习对样本值敏感需要做标准化处理\n",
        "Y_train = np_utils.to_categorical(y_train, 10)\n",
        "Y_test = np_utils.to_categorical(y_test, 10)\n",
        "#把标签值变成一维数组显示，例如 标签1 ——0100000000"
      ],
      "execution_count": 0,
      "outputs": []
    },
    {
      "cell_type": "code",
      "metadata": {
        "id": "atJ59qKiixJT",
        "colab_type": "code",
        "colab": {}
      },
      "source": [
        "\n",
        "model = Sequential()\n",
        "model.add(MixBatch(batch_size=32))\n",
        "model.add(Conv2D(32, kernel_size=(3, 3),\n",
        "                   activation='relu',\n",
        "                   input_shape=(28,28,1)))\n",
        "model.add(MixBatch(batch_size=32))\n",
        "#第一层卷积层，32个特征图，每个特征图中的神经元与输入中的3×3的领域相连。参数可调\n",
        "model.add(Conv2D(64, (3, 3), activation='relu'))   #第二层卷积层,64个特征图。参数可调\n",
        "model.add(MixBatch(batch_size=32))\n",
        "model.add(MaxPooling2D(pool_size=(2, 2)))   #池化层 2×2做映射，参数可调\n",
        "model.add(MixBatch(batch_size=32))\n",
        "model.add(Dropout(0.25))   #Dropou算法用于测试集的精确度的优化，这个也可以换。\n",
        "model.add(Flatten())    #把二维数组拉成一维\n",
        "model.add(Dense(128, activation='relu'))    #正常的神经网络层\n",
        "model.add(MixBatch(batch_size=32))\n",
        "model.add(Dropout(0.5))\n",
        "model.add(Dense(10, activation='softmax')) #输出层\n",
        "model.compile(loss='categorical_crossentropy',\n",
        "                         optimizer='adam',\n",
        "                          metrics=['accuracy'])   #交叉熵，训练优化算法adam\n",
        "cb = get_default_callbacks(comment=\"MBall\")\n",
        "model.fit(X_train, Y_train, batch_size=32, nb_epoch=10, verbose=1,callbacks=cb,validation_data=(X_test, Y_test))  # batch=32,epoch=10,参数可调，总迭代次数大家会算吗？\n",
        "# score = model.evaluate(, verbose=0)"
      ],
      "execution_count": 0,
      "outputs": []
    }
  ]
}